{
 "cells": [
  {
   "cell_type": "code",
   "execution_count": 1,
   "id": "976ec3df-a209-48d7-be58-61733f69a141",
   "metadata": {},
   "outputs": [],
   "source": [
    "import openai"
   ]
  },
  {
   "cell_type": "code",
   "execution_count": 2,
   "id": "6cb1ebdd-fa1d-419a-bc1e-c0ebaa65bda7",
   "metadata": {},
   "outputs": [],
   "source": [
    "from openai import OpenAI"
   ]
  },
  {
   "cell_type": "code",
   "execution_count": 3,
   "id": "7ad722e1-0089-4df8-9b9c-5e26d3805a02",
   "metadata": {},
   "outputs": [],
   "source": [
    "client = OpenAI()"
   ]
  },
  {
   "cell_type": "code",
   "execution_count": 5,
   "id": "52df28dd-b57c-4008-bce5-26e6d23c2173",
   "metadata": {},
   "outputs": [],
   "source": [
    "# import os\n",
    "# os.environ"
   ]
  },
  {
   "cell_type": "code",
   "execution_count": 6,
   "id": "75ae0acc-26ba-4648-a4ad-4fd35db89dc2",
   "metadata": {},
   "outputs": [],
   "source": [
    "response = client.chat.completions.create(\n",
    "    model='gpt-4o',\n",
    "    messages=[{\"role\": \"user\", \"content\": \"is it too late to join the course?\"}]\n",
    ")    "
   ]
  },
  {
   "cell_type": "code",
   "execution_count": 9,
   "id": "5a945ab3-36f6-47ae-8fca-a26012aee59d",
   "metadata": {},
   "outputs": [
    {
     "data": {
      "text/plain": [
       "\"Whether it’s too late to join a course depends on several factors, such as the specific course, its start date, and the institution offering it. Here are some steps you can take to find out if you can still join:\\n\\n1. **Check the Course Schedule:**\\n   Look for information on the course's start and enrollment deadlines. This is usually available on the institution's website or the course information page.\\n\\n2. **Contact the Institution:**\\n   Reach out to the admissions office or the course instructor. They can provide information on whether late enrollment is possible and if there are any additional steps or fees involved.\\n\\n3. **Consider Online Courses:**\\n   Many online courses offer flexible start dates and self-paced learning, which might allow you to join even if the official start date has passed.\\n\\n4. **Look for Waitlists:**\\n   Some courses offer waitlists for potential late joiners. Sign up if this option is available.\\n\\n5. **Assess the Workload:**\\n   If you can join late, be prepared to catch up on any missed material. Evaluate whether you’ll be able to handle the additional workload.\\n\\n6. **Ask About Prerequisites:**\\n   Ensure you meet any necessary prerequisites and have access to required materials or resources.\\n\\n7. **Financial Aid/Scholarships:**\\n   Check if joining late affects your eligibility for any financial aid or scholarships.\\n\\nEach course and institution may have different policies, so it's important to reach out directly for the most accurate information.\""
      ]
     },
     "execution_count": 9,
     "metadata": {},
     "output_type": "execute_result"
    }
   ],
   "source": [
    "response.choices[0].message.content"
   ]
  },
  {
   "cell_type": "code",
   "execution_count": null,
   "id": "3fc84fb8-68c2-4e18-8914-cd8735494a51",
   "metadata": {},
   "outputs": [],
   "source": []
  }
 ],
 "metadata": {
  "kernelspec": {
   "display_name": "Python 3 (ipykernel)",
   "language": "python",
   "name": "python3"
  },
  "language_info": {
   "codemirror_mode": {
    "name": "ipython",
    "version": 3
   },
   "file_extension": ".py",
   "mimetype": "text/x-python",
   "name": "python",
   "nbconvert_exporter": "python",
   "pygments_lexer": "ipython3",
   "version": "3.10.13"
  }
 },
 "nbformat": 4,
 "nbformat_minor": 5
}
